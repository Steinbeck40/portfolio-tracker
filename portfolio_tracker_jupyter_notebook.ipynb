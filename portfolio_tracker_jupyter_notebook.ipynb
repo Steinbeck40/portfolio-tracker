{
  "nbformat": 4,
  "nbformat_minor": 0,
  "metadata": {
    "colab": {
      "name": "capstone_3_final_notebook.ipynb",
      "provenance": []
    },
    "kernelspec": {
      "display_name": "Python 3",
      "name": "python3"
    },
    "language_info": {
      "name": "python"
    }
  },
  "cells": [
    {
      "cell_type": "markdown",
      "metadata": {
        "id": "wyylTjQ3H0mO"
      },
      "source": [
        "#1. Introduction\n",
        "\n",
        "For the long-term investor, index funds can be an appealing choice for an investment portfolio.  Index funds are well diversified, provide steady but relatively low-volatility growth, and are not actively managed meaning that their associated expenses are often much lower than actively managed mutual funds. But who has the best index funds? In theory, because index funds are constructed to mimic the behavior of a particular index, there should not be a significant difference between the returns and losses for two similar funds (e.g. two large cap index funds from two different institutions).  But how could we be sure of that?  In this project I compare the average annualized returns and maximum annual losses over the same investing period for various combinations of index funds from two of the better-known financial institutions in the United States.  The goal: to determine if there is statistical evidence that the funds of each institution perform differently in terms of average returns and maximum losses. \n",
        "\n",
        "###The Situation\n",
        "\n",
        "There are two well known U.S. financial institutions that are both very proud of their index fund lineups. They are very real institutions, but for the sake of this analysis they will be referred to as Institutions 1 and 2 respectively. I want to know which institution has better performing index funds. \n",
        "\n",
        "###How Will Perfomance Be Measured?\n",
        "\n",
        "I plan to compare two variables across the same historical investment period for both institutions:\n",
        "\n",
        "\n",
        "1.   Annualized Rate of Return (Who earns the most?)\n",
        "2.   Maximum Annual Loss (Who loses the least?)\n",
        "\n",
        "And instead of comparing individual funds I will be comparing the collective results of all unique combinations of a portfolio that can contain up to 6 different asset classes. To hopefully make this concept a bit more clear please consider the image below:\n",
        "\n",
        "![Capture.PNG](data:image/png;base64,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)\n",
        "\n",
        "\n",
        "For combination 1 I would have a portfolio that would be 100% invested in an inflation protected securities index fund and 0% in all other asset classes. Over the course of a particular historical investing period I would be able to calculate an average annualized rate of return and a maximum annual loss. The same could then be done for combination 2, 3, and so on. So for a 6 asset portfolio assuming allocation percentage multiples of 5% this results in 53130 outputs for average annualized rate of return and maximum annual loss.\n",
        "\n",
        "\n",
        "After compiling datasets for both institutions they can be compared for statistically significant differences using independent-samples t-test's. The results from the t-test's will be used to accept or reject the following null hypotheses:\n",
        "\n",
        "\n",
        "1.   \t$H_1$:  There is no significant difference in the average annualized returns between financial institutions 1 and 2.\n",
        "2.   \t$H_2$:  There is no significant difference in the maximum annual losses between financial institutions 1 and 2.\n",
        "\n",
        "\n",
        "If one or both of the nulls can be rejected there will be causal evidence that one institution has a historically better performing index fund lineup than the other.\n",
        "\n",
        "\n",
        "It should also be noted that this analysis calculates returns based on a single lump sum investment at the start of the investment period and assumes reinvestment of any dividends and capital gains distributions. "
      ]
    },
    {
      "cell_type": "markdown",
      "metadata": {
        "id": "7qlgaGTmcNoa"
      },
      "source": [
        "#2. Accessing Data\n",
        "\n",
        "There are two avenues used for loading data in this analysis. Importing from pre-assembled csv files and downloading data from [Yahoo Finance](https://finance.yahoo.com/). \n",
        "\n",
        "Csv files are accessed by linking Google Drive to Colaboratory:"
      ]
    },
    {
      "cell_type": "code",
      "metadata": {
        "colab": {
          "base_uri": "https://localhost:8080/"
        },
        "id": "8vV-lks-LxeC",
        "outputId": "c8649713-eb55-46cb-97d5-d7e0eb32251e"
      },
      "source": [
        "# Mount Google Drive to Colab.\n",
        "from google.colab import drive\n",
        "drive.mount('/content/gdrive')"
      ],
      "execution_count": null,
      "outputs": [
        {
          "output_type": "stream",
          "name": "stdout",
          "text": [
            "Mounted at /content/gdrive\n"
          ]
        }
      ]
    },
    {
      "cell_type": "markdown",
      "metadata": {
        "id": "VauK-Dhkevk_"
      },
      "source": [
        "Data from Yahoo Finance is accessed via the yfinance library in Python. yfinance does not come preinstalled on Google Colaboratory but it can be easily installed using the following !pip install:"
      ]
    },
    {
      "cell_type": "code",
      "metadata": {
        "colab": {
          "base_uri": "https://localhost:8080/"
        },
        "id": "Vx4bMhnlL93J",
        "outputId": "b9430afa-4ba8-49b7-cc56-72a72ed13e9b"
      },
      "source": [
        "# Install yfinance library. \n",
        "!pip install yfinance"
      ],
      "execution_count": null,
      "outputs": [
        {
          "output_type": "stream",
          "name": "stdout",
          "text": [
            "Collecting yfinance\n",
            "  Downloading yfinance-0.1.64.tar.gz (26 kB)\n",
            "Requirement already satisfied: pandas>=0.24 in /usr/local/lib/python3.7/dist-packages (from yfinance) (1.1.5)\n",
            "Requirement already satisfied: numpy>=1.15 in /usr/local/lib/python3.7/dist-packages (from yfinance) (1.19.5)\n",
            "Requirement already satisfied: requests>=2.20 in /usr/local/lib/python3.7/dist-packages (from yfinance) (2.23.0)\n",
            "Requirement already satisfied: multitasking>=0.0.7 in /usr/local/lib/python3.7/dist-packages (from yfinance) (0.0.9)\n",
            "Collecting lxml>=4.5.1\n",
            "  Downloading lxml-4.6.3-cp37-cp37m-manylinux2014_x86_64.whl (6.3 MB)\n",
            "\u001b[K     |████████████████████████████████| 6.3 MB 12.0 MB/s \n",
            "\u001b[?25hRequirement already satisfied: pytz>=2017.2 in /usr/local/lib/python3.7/dist-packages (from pandas>=0.24->yfinance) (2018.9)\n",
            "Requirement already satisfied: python-dateutil>=2.7.3 in /usr/local/lib/python3.7/dist-packages (from pandas>=0.24->yfinance) (2.8.2)\n",
            "Requirement already satisfied: six>=1.5 in /usr/local/lib/python3.7/dist-packages (from python-dateutil>=2.7.3->pandas>=0.24->yfinance) (1.15.0)\n",
            "Requirement already satisfied: urllib3!=1.25.0,!=1.25.1,<1.26,>=1.21.1 in /usr/local/lib/python3.7/dist-packages (from requests>=2.20->yfinance) (1.24.3)\n",
            "Requirement already satisfied: idna<3,>=2.5 in /usr/local/lib/python3.7/dist-packages (from requests>=2.20->yfinance) (2.10)\n",
            "Requirement already satisfied: chardet<4,>=3.0.2 in /usr/local/lib/python3.7/dist-packages (from requests>=2.20->yfinance) (3.0.4)\n",
            "Requirement already satisfied: certifi>=2017.4.17 in /usr/local/lib/python3.7/dist-packages (from requests>=2.20->yfinance) (2021.5.30)\n",
            "Building wheels for collected packages: yfinance\n",
            "  Building wheel for yfinance (setup.py) ... \u001b[?25l\u001b[?25hdone\n",
            "  Created wheel for yfinance: filename=yfinance-0.1.64-py2.py3-none-any.whl size=24109 sha256=34368194ec4a46d5ec7599952c5725efc78249fa9553ee3b7137abcf2e26ffdf\n",
            "  Stored in directory: /root/.cache/pip/wheels/86/fe/9b/a4d3d78796b699e37065e5b6c27b75cff448ddb8b24943c288\n",
            "Successfully built yfinance\n",
            "Installing collected packages: lxml, yfinance\n",
            "  Attempting uninstall: lxml\n",
            "    Found existing installation: lxml 4.2.6\n",
            "    Uninstalling lxml-4.2.6:\n",
            "      Successfully uninstalled lxml-4.2.6\n",
            "Successfully installed lxml-4.6.3 yfinance-0.1.64\n"
          ]
        }
      ]
    },
    {
      "cell_type": "markdown",
      "metadata": {
        "id": "OB2lhZC5BolP"
      },
      "source": [
        "Now the yfinance library can be imported using \"import yfinance\". Before proceeding any farther it is also wise to import any additional libraries or modules that will be needed for the analysis just to keep things organized."
      ]
    },
    {
      "cell_type": "code",
      "metadata": {
        "id": "4lTagy1FL-gF"
      },
      "source": [
        "# Do all imports here to stay organized.  \n",
        "import yfinance as yf\n",
        "import pandas as pd\n",
        "import datetime \n",
        "from datetime import timedelta\n",
        "import calendar\n",
        "import statistics as st\n",
        "import numpy as np\n",
        "import seaborn as sns \n",
        "sns.set()\n",
        "import matplotlib.pyplot as plt\n",
        "from scipy import stats\n",
        "import math"
      ],
      "execution_count": null,
      "outputs": []
    },
    {
      "cell_type": "markdown",
      "metadata": {
        "id": "PWKYl5hhDbUO"
      },
      "source": [
        "At this point it is time to specify the funds to import for the analysis. The analysis allows for 6 funds to be used as inputs. In order to compare the two institutions as fairly as possible it is necessary to choose similar funds for each asset category. The following image provides the asset classes and corresponding funds chosen for this analysis:\n",
        "\n",
        "![Capture 2.PNG](data:image/png;base64,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)\n",
        "\n",
        "To begin the analysis the six tickers from one financial institution are assigned to the list named \"tickers\". When the data loading, wrangling, and calculations are complete for institution 1 and the results csv is exported we can come back to this step and repeat the process for institution 2. \n",
        "\n",
        "It is also necessary to select a start and end date for the investment period. The only requirements here are that the start date cannot be prior to the inception date of the youngest fund and the end date cannot be any later than the most recent round of closing prices.\n",
        "\n",
        "The end result of this data loading step will be a DataFrame that contains a column for the date and 6 columns that contain the closing prices of all 6 funds."
      ]
    },
    {
      "cell_type": "code",
      "metadata": {
        "colab": {
          "base_uri": "https://localhost:8080/",
          "height": 220
        },
        "id": "TvEgm-8pj46m",
        "outputId": "2792ed5c-ef71-45ba-a8c2-f5d1c13cd8e8"
      },
      "source": [
        "# REQUIRED INPUT: assign 6 ticker symbols to the 'tickers' list. (Must have exactly 6 tickers)\n",
        "tickers = ['VTSAX', 'VTMGX', 'VEMAX', 'VGSLX', 'VBTLX', 'GC=F']\n",
        "\n",
        "# Define start and end of investment period. (start_date cannot be earlier than the inception date of the youngest fund)\n",
        "start_date = datetime.date(2006, 7, 1)\n",
        "end_date = datetime.date(2021, 6, 30)\n",
        "\n",
        "# Create a 1 day timedelta variable called \"delta\". Used for calculations involving datetime variables.  \n",
        "delta = timedelta(days=1) \n",
        "\n",
        "# Download data from yahoo finance using yfinance.\n",
        "all_data = yf.download(tickers, start=start_date, end=end_date + delta)\n",
        "\n",
        "# Create new DataFrame called \"closing_prices\" and populate with date and closing prices.\n",
        "closing_prices = pd.DataFrame()\n",
        "closing_prices['Date'] = all_data.index\n",
        "for ticker in tickers:\n",
        "  closing_prices[ticker] = all_data['Close', ticker].values\n",
        "\n",
        "# View first 5 rows in closing_prices DataFrame. Don't worry about null values just yet.\n",
        "closing_prices.head()"
      ],
      "execution_count": null,
      "outputs": [
        {
          "output_type": "stream",
          "name": "stdout",
          "text": [
            "[*********************100%***********************]  6 of 6 completed\n"
          ]
        },
        {
          "output_type": "execute_result",
          "data": {
            "text/html": [
              "<div>\n",
              "<style scoped>\n",
              "    .dataframe tbody tr th:only-of-type {\n",
              "        vertical-align: middle;\n",
              "    }\n",
              "\n",
              "    .dataframe tbody tr th {\n",
              "        vertical-align: top;\n",
              "    }\n",
              "\n",
              "    .dataframe thead th {\n",
              "        text-align: right;\n",
              "    }\n",
              "</style>\n",
              "<table border=\"1\" class=\"dataframe\">\n",
              "  <thead>\n",
              "    <tr style=\"text-align: right;\">\n",
              "      <th></th>\n",
              "      <th>Date</th>\n",
              "      <th>VTSAX</th>\n",
              "      <th>VTMGX</th>\n",
              "      <th>VEMAX</th>\n",
              "      <th>VGSLX</th>\n",
              "      <th>VBTLX</th>\n",
              "      <th>GC=F</th>\n",
              "    </tr>\n",
              "  </thead>\n",
              "  <tbody>\n",
              "    <tr>\n",
              "      <th>0</th>\n",
              "      <td>2006-06-30</td>\n",
              "      <td>NaN</td>\n",
              "      <td>NaN</td>\n",
              "      <td>NaN</td>\n",
              "      <td>NaN</td>\n",
              "      <td>NaN</td>\n",
              "      <td>NaN</td>\n",
              "    </tr>\n",
              "    <tr>\n",
              "      <th>1</th>\n",
              "      <td>2006-07-03</td>\n",
              "      <td>30.980000</td>\n",
              "      <td>12.77</td>\n",
              "      <td>27.200001</td>\n",
              "      <td>95.370003</td>\n",
              "      <td>9.73</td>\n",
              "      <td>NaN</td>\n",
              "    </tr>\n",
              "    <tr>\n",
              "      <th>2</th>\n",
              "      <td>2006-07-05</td>\n",
              "      <td>30.730000</td>\n",
              "      <td>12.54</td>\n",
              "      <td>26.500000</td>\n",
              "      <td>95.349998</td>\n",
              "      <td>9.69</td>\n",
              "      <td>627.299988</td>\n",
              "    </tr>\n",
              "    <tr>\n",
              "      <th>3</th>\n",
              "      <td>2006-07-06</td>\n",
              "      <td>30.799999</td>\n",
              "      <td>12.65</td>\n",
              "      <td>26.709999</td>\n",
              "      <td>95.570000</td>\n",
              "      <td>9.71</td>\n",
              "      <td>634.099976</td>\n",
              "    </tr>\n",
              "    <tr>\n",
              "      <th>4</th>\n",
              "      <td>2006-07-07</td>\n",
              "      <td>30.559999</td>\n",
              "      <td>12.64</td>\n",
              "      <td>26.549999</td>\n",
              "      <td>95.120003</td>\n",
              "      <td>9.74</td>\n",
              "      <td>632.799988</td>\n",
              "    </tr>\n",
              "  </tbody>\n",
              "</table>\n",
              "</div>"
            ],
            "text/plain": [
              "        Date      VTSAX  VTMGX      VEMAX      VGSLX  VBTLX        GC=F\n",
              "0 2006-06-30        NaN    NaN        NaN        NaN    NaN         NaN\n",
              "1 2006-07-03  30.980000  12.77  27.200001  95.370003   9.73         NaN\n",
              "2 2006-07-05  30.730000  12.54  26.500000  95.349998   9.69  627.299988\n",
              "3 2006-07-06  30.799999  12.65  26.709999  95.570000   9.71  634.099976\n",
              "4 2006-07-07  30.559999  12.64  26.549999  95.120003   9.74  632.799988"
            ]
          },
          "metadata": {},
          "execution_count": 8
        }
      ]
    },
    {
      "cell_type": "markdown",
      "metadata": {
        "id": "87CdcMNDNLE-"
      },
      "source": [
        "#3. Data Wrangling\n",
        "\n",
        "When viewing the dataframe there are a couple of things that stand out. First, there are missing dates in the \"Date\" column. Since these are assets that trade during market hours there is no data available for weekends and market holidays. It would be ideal to assign some data to those dates so that eventually the following calculation can be carried out without having to worry about null values:\n",
        "\n",
        "$ROR_{@date} = \\frac{Portfolio\\,Value_{@date} - Portfolio\\,Value_{@date-365}}{Portfolio\\,Value_{@date-365}}$\n",
        "\n",
        "The second issue is that there are \"NaN\" values present for active trading days. You can see that the 5th value for the asset VBTLX contains a \"NaN\" while all other assets have non-null values. This is a yfinance issue that apparently is not uncommon, and it seems to be very problematic for low volatility funds. The VBTLX fund, for example, is missing about 50% of the necessary closing price data. For the sake of this excercise I opted to manually download the data from yahoo finance in csv format and replace the null values that should have contained non-null's. This did render the yfinance portion of this analysis a little pointless but it did allow me to get some additional practice working with new libraries and manipulating DataFrames. \n",
        "\n",
        "Here is how the general process for addressing these 2 issues goes:\n",
        "\n",
        "\n",
        "1.   Get missing dates into the DataFrame.\n",
        "2.   Load csv files containing missing closing price data and distribution (dividend and capital gains) data.\n",
        "3.   Replace 'NaN' values on active trading days with true values from imported data and add distribution columns to DataFrame.\n",
        "4.   Fill 'NaN' values for weekends and holidays by averaging adjacent non-null values.\n",
        "\n",
        "Let's first get our missing dates into the DataFrame. \n",
        "\n"
      ]
    },
    {
      "cell_type": "code",
      "metadata": {
        "colab": {
          "base_uri": "https://localhost:8080/",
          "height": 203
        },
        "id": "_N-C0OY5hpI1",
        "outputId": "db41caf8-985f-4e4b-85e1-74908db7c0fd"
      },
      "source": [
        "# Create a list called \"date_list\" and populate with each date from start_date to end_date. \n",
        "date_list = []\n",
        "current_date = start_date - delta \n",
        "while current_date <= end_date - delta:\n",
        "  date_list.append(current_date + delta)\n",
        "  current_date = current_date + delta\n",
        "\n",
        "# Create a list called \"day_list\" and populate with corresponding weekday names for each date in date_list. \n",
        "day_list = []\n",
        "for date in date_list:\n",
        "  weekday = date.weekday()\n",
        "  day_name = calendar.day_name[weekday]\n",
        "  day_list.append(day_name)\n",
        "\n",
        "# Create a new DataFrame called \"df\" that is identical to the closing_prices DataFrame but now includes day names and the dates of non-trading days.\n",
        "dates_df = pd.DataFrame(list(zip(date_list, day_list)), columns = ['Date', 'Day'])\n",
        "dates_df['Date'] = pd.to_datetime(dates_df['Date'])\n",
        "df = pd.merge(dates_df, closing_prices, how='left', on='Date')\n",
        "\n",
        "# View first 5 rows in df DataFrame. Don't worry about null values just yet.\n",
        "df.head()"
      ],
      "execution_count": null,
      "outputs": [
        {
          "output_type": "execute_result",
          "data": {
            "text/html": [
              "<div>\n",
              "<style scoped>\n",
              "    .dataframe tbody tr th:only-of-type {\n",
              "        vertical-align: middle;\n",
              "    }\n",
              "\n",
              "    .dataframe tbody tr th {\n",
              "        vertical-align: top;\n",
              "    }\n",
              "\n",
              "    .dataframe thead th {\n",
              "        text-align: right;\n",
              "    }\n",
              "</style>\n",
              "<table border=\"1\" class=\"dataframe\">\n",
              "  <thead>\n",
              "    <tr style=\"text-align: right;\">\n",
              "      <th></th>\n",
              "      <th>Date</th>\n",
              "      <th>Day</th>\n",
              "      <th>VTSAX</th>\n",
              "      <th>VTMGX</th>\n",
              "      <th>VEMAX</th>\n",
              "      <th>VGSLX</th>\n",
              "      <th>VBTLX</th>\n",
              "      <th>GC=F</th>\n",
              "    </tr>\n",
              "  </thead>\n",
              "  <tbody>\n",
              "    <tr>\n",
              "      <th>0</th>\n",
              "      <td>2006-07-01</td>\n",
              "      <td>Saturday</td>\n",
              "      <td>NaN</td>\n",
              "      <td>NaN</td>\n",
              "      <td>NaN</td>\n",
              "      <td>NaN</td>\n",
              "      <td>NaN</td>\n",
              "      <td>NaN</td>\n",
              "    </tr>\n",
              "    <tr>\n",
              "      <th>1</th>\n",
              "      <td>2006-07-02</td>\n",
              "      <td>Sunday</td>\n",
              "      <td>NaN</td>\n",
              "      <td>NaN</td>\n",
              "      <td>NaN</td>\n",
              "      <td>NaN</td>\n",
              "      <td>NaN</td>\n",
              "      <td>NaN</td>\n",
              "    </tr>\n",
              "    <tr>\n",
              "      <th>2</th>\n",
              "      <td>2006-07-03</td>\n",
              "      <td>Monday</td>\n",
              "      <td>30.98</td>\n",
              "      <td>12.77</td>\n",
              "      <td>27.200001</td>\n",
              "      <td>95.370003</td>\n",
              "      <td>9.73</td>\n",
              "      <td>NaN</td>\n",
              "    </tr>\n",
              "    <tr>\n",
              "      <th>3</th>\n",
              "      <td>2006-07-04</td>\n",
              "      <td>Tuesday</td>\n",
              "      <td>NaN</td>\n",
              "      <td>NaN</td>\n",
              "      <td>NaN</td>\n",
              "      <td>NaN</td>\n",
              "      <td>NaN</td>\n",
              "      <td>NaN</td>\n",
              "    </tr>\n",
              "    <tr>\n",
              "      <th>4</th>\n",
              "      <td>2006-07-05</td>\n",
              "      <td>Wednesday</td>\n",
              "      <td>30.73</td>\n",
              "      <td>12.54</td>\n",
              "      <td>26.500000</td>\n",
              "      <td>95.349998</td>\n",
              "      <td>9.69</td>\n",
              "      <td>627.299988</td>\n",
              "    </tr>\n",
              "  </tbody>\n",
              "</table>\n",
              "</div>"
            ],
            "text/plain": [
              "        Date        Day  VTSAX  VTMGX      VEMAX      VGSLX  VBTLX        GC=F\n",
              "0 2006-07-01   Saturday    NaN    NaN        NaN        NaN    NaN         NaN\n",
              "1 2006-07-02     Sunday    NaN    NaN        NaN        NaN    NaN         NaN\n",
              "2 2006-07-03     Monday  30.98  12.77  27.200001  95.370003   9.73         NaN\n",
              "3 2006-07-04    Tuesday    NaN    NaN        NaN        NaN    NaN         NaN\n",
              "4 2006-07-05  Wednesday  30.73  12.54  26.500000  95.349998   9.69  627.299988"
            ]
          },
          "metadata": {},
          "execution_count": 9
        }
      ]
    },
    {
      "cell_type": "markdown",
      "metadata": {
        "id": "MGS4Hw82YkxM"
      },
      "source": [
        "As you can see there are now dates for Saturday and Sunday. The next code block involves filling in any \"NaN\" values and adding colunns for respective fund distributions. Before proceeding it is important to note that a csv file is required. Go ahead and use the provided csv file titled \"institution_1_reference_data\" for institution 1. When repeating the process for institution 2 replace the file with \"institution_2_reference_data\". At the end of this step you should now have a DataFrame with closing prices and distribution amounts for every date in the investing period and no \"NaN\" values."
      ]
    },
    {
      "cell_type": "code",
      "metadata": {
        "colab": {
          "base_uri": "https://localhost:8080/",
          "height": 203
        },
        "id": "m4stNCaB1V-_",
        "outputId": "35f2110b-af74-4a89-c750-de2d0b7a511b"
      },
      "source": [
        "# Import csv file that contains missing closing prices and distribution data (dividends and capital gains distributions).\n",
        "# Convert csv file to a DataFrame called \"ref_df\".\n",
        "ref_df = pd.read_csv('/content/gdrive/My Drive/capstone_3_csv_files/reference_for_project.csv')\n",
        "ref_df['Date'] = pd.to_datetime(ref_df['Date'])\n",
        "\n",
        "# Update df DataFrame to include data from ref_df DataFrame. \n",
        "df = pd.merge(df, ref_df, how='left', on='Date')\n",
        "for ticker in tickers:\n",
        "  df.loc[df[ticker].isnull(), ticker] = df[ticker + '_REF']\n",
        "  df.loc[df[ticker + '_DIST'].isnull(), ticker + '_DIST'] = 0\n",
        "df = df.drop(df.filter(regex='_REF').columns, axis=1)\n",
        "\n",
        "# Populate remaining null values (non-trading days) with mean of adjacent non-null values.\n",
        "df = pd.concat([df.ffill(), df.bfill()]).groupby(level=0).mean()\n",
        "\n",
        "# Create final raw data DataFrame called \"df_final\" by merging dates_df and df DataFrames. \n",
        "# df_final DataFrame should now include day names, closing prices, and distribution data for every day from start_date to end_date with no null values.\n",
        "df_final = pd.merge(dates_df, df, left_index=True, right_index=True)\n",
        "\n",
        "# View first 5 rows in df_final DataFrame.\n",
        "df_final.head()"
      ],
      "execution_count": null,
      "outputs": [
        {
          "output_type": "execute_result",
          "data": {
            "text/html": [
              "<div>\n",
              "<style scoped>\n",
              "    .dataframe tbody tr th:only-of-type {\n",
              "        vertical-align: middle;\n",
              "    }\n",
              "\n",
              "    .dataframe tbody tr th {\n",
              "        vertical-align: top;\n",
              "    }\n",
              "\n",
              "    .dataframe thead th {\n",
              "        text-align: right;\n",
              "    }\n",
              "</style>\n",
              "<table border=\"1\" class=\"dataframe\">\n",
              "  <thead>\n",
              "    <tr style=\"text-align: right;\">\n",
              "      <th></th>\n",
              "      <th>Date</th>\n",
              "      <th>Day</th>\n",
              "      <th>VTSAX</th>\n",
              "      <th>VTMGX</th>\n",
              "      <th>VEMAX</th>\n",
              "      <th>VGSLX</th>\n",
              "      <th>VBTLX</th>\n",
              "      <th>GC=F</th>\n",
              "      <th>VTSAX_DIST</th>\n",
              "      <th>VTMGX_DIST</th>\n",
              "      <th>VEMAX_DIST</th>\n",
              "      <th>VGSLX_DIST</th>\n",
              "      <th>VBTLX_DIST</th>\n",
              "      <th>VIPSX_DIST</th>\n",
              "      <th>GC=F_DIST</th>\n",
              "    </tr>\n",
              "  </thead>\n",
              "  <tbody>\n",
              "    <tr>\n",
              "      <th>0</th>\n",
              "      <td>2006-07-01</td>\n",
              "      <td>Saturday</td>\n",
              "      <td>30.980</td>\n",
              "      <td>12.770</td>\n",
              "      <td>27.200001</td>\n",
              "      <td>95.370003</td>\n",
              "      <td>9.73</td>\n",
              "      <td>620.400000</td>\n",
              "      <td>0.0</td>\n",
              "      <td>0.0</td>\n",
              "      <td>0.0</td>\n",
              "      <td>0.0</td>\n",
              "      <td>0.0</td>\n",
              "      <td>0.0</td>\n",
              "      <td>0.0</td>\n",
              "    </tr>\n",
              "    <tr>\n",
              "      <th>1</th>\n",
              "      <td>2006-07-02</td>\n",
              "      <td>Sunday</td>\n",
              "      <td>30.980</td>\n",
              "      <td>12.770</td>\n",
              "      <td>27.200001</td>\n",
              "      <td>95.370003</td>\n",
              "      <td>9.73</td>\n",
              "      <td>620.400000</td>\n",
              "      <td>0.0</td>\n",
              "      <td>0.0</td>\n",
              "      <td>0.0</td>\n",
              "      <td>0.0</td>\n",
              "      <td>0.0</td>\n",
              "      <td>0.0</td>\n",
              "      <td>0.0</td>\n",
              "    </tr>\n",
              "    <tr>\n",
              "      <th>2</th>\n",
              "      <td>2006-07-03</td>\n",
              "      <td>Monday</td>\n",
              "      <td>30.980</td>\n",
              "      <td>12.770</td>\n",
              "      <td>27.200001</td>\n",
              "      <td>95.370003</td>\n",
              "      <td>9.73</td>\n",
              "      <td>620.400000</td>\n",
              "      <td>0.0</td>\n",
              "      <td>0.0</td>\n",
              "      <td>0.0</td>\n",
              "      <td>0.0</td>\n",
              "      <td>0.0</td>\n",
              "      <td>0.0</td>\n",
              "      <td>0.0</td>\n",
              "    </tr>\n",
              "    <tr>\n",
              "      <th>3</th>\n",
              "      <td>2006-07-04</td>\n",
              "      <td>Tuesday</td>\n",
              "      <td>30.855</td>\n",
              "      <td>12.655</td>\n",
              "      <td>26.850000</td>\n",
              "      <td>95.360001</td>\n",
              "      <td>9.71</td>\n",
              "      <td>623.849994</td>\n",
              "      <td>0.0</td>\n",
              "      <td>0.0</td>\n",
              "      <td>0.0</td>\n",
              "      <td>0.0</td>\n",
              "      <td>0.0</td>\n",
              "      <td>0.0</td>\n",
              "      <td>0.0</td>\n",
              "    </tr>\n",
              "    <tr>\n",
              "      <th>4</th>\n",
              "      <td>2006-07-05</td>\n",
              "      <td>Wednesday</td>\n",
              "      <td>30.730</td>\n",
              "      <td>12.540</td>\n",
              "      <td>26.500000</td>\n",
              "      <td>95.349998</td>\n",
              "      <td>9.69</td>\n",
              "      <td>627.299988</td>\n",
              "      <td>0.0</td>\n",
              "      <td>0.0</td>\n",
              "      <td>0.0</td>\n",
              "      <td>0.0</td>\n",
              "      <td>0.0</td>\n",
              "      <td>0.0</td>\n",
              "      <td>0.0</td>\n",
              "    </tr>\n",
              "  </tbody>\n",
              "</table>\n",
              "</div>"
            ],
            "text/plain": [
              "        Date        Day   VTSAX  ...  VBTLX_DIST  VIPSX_DIST  GC=F_DIST\n",
              "0 2006-07-01   Saturday  30.980  ...         0.0         0.0        0.0\n",
              "1 2006-07-02     Sunday  30.980  ...         0.0         0.0        0.0\n",
              "2 2006-07-03     Monday  30.980  ...         0.0         0.0        0.0\n",
              "3 2006-07-04    Tuesday  30.855  ...         0.0         0.0        0.0\n",
              "4 2006-07-05  Wednesday  30.730  ...         0.0         0.0        0.0\n",
              "\n",
              "[5 rows x 15 columns]"
            ]
          },
          "metadata": {},
          "execution_count": 10
        }
      ]
    },
    {
      "cell_type": "code",
      "metadata": {
        "id": "Zk1wmfUHGLSx"
      },
      "source": [
        "df_final.to_csv('/content/gdrive/My Drive/capstone_3_csv_files/test.csv')"
      ],
      "execution_count": null,
      "outputs": []
    },
    {
      "cell_type": "markdown",
      "metadata": {
        "id": "7RF5L5cccHKx"
      },
      "source": [
        "#4. Calculations\n",
        "\n",
        "Remember from earlier that we are after 2 outputs of interest:\n",
        "\n",
        "\n",
        "1.   Annualized Rate of Return\n",
        "2.   Maximum Annual Loss\n",
        "\n",
        "And what we ultimately are after is both of these outputs for each of our 53130 asset allocation combinations. The calculations to get these outputs are not the most complex, but there are a lot of moving parts. The general workflow looks like this:\n",
        "\n",
        "\n",
        "1.   Assign an amount to invest at the start of the investing period. As long as this is a positive value it does not really matter what the number is since we are really after %changes. For this analysis I suggest using a simple value like 10000.\n",
        "2.   Calculate number of starting shares for each asset using the following equation:\n",
        "\n",
        "  $Starting\\,Shares=\\frac{Initial\\,Investment\\,\\times\\,Percent\\,Allocation}{Share\\,Price_{@startdate}}$\n",
        "    \n",
        "\n",
        "3.   Calculate number of shares of each asset for every date in the investing period. This step is needed to account for the reinvestment of dividends and capital gains distributions. Number of shares at each date can be calculated using the following:\n",
        "\n",
        "  $Quantity\\,of\\,Shares_{@date}=Quantity\\,of\\,Shares_{@date-1}+Quantity\\,of\\,Shares_{@date-1}\\times\\frac{Distribution\\,Per\\,Share_{@date}}{Share\\,Price_{@date}}$\n",
        "\n",
        "4.   Calculate total value of portfolio for every date in the investing period by summing the value of each asset in the portfolio.\n",
        "\n",
        "  $Portfolio\\,Value_{@date}=\\sum_\\limits{n=1}^{6}(Quantity\\,of\\,Shares\\,of\\,Fund\\,n_{@date})\\times(Share\\,Price\\,of\\,Fund\\,n_{@date})$\n",
        "\n",
        "5.   Then, beginning exatly 365 days after the start of the investing period we can begin calculating a running 365 day rate of return as follows:\n",
        "\n",
        "  $ROR_{@date} = \\frac{Portfolio\\,Value_{@date} - Portfolio\\,Value_{@date-365}}{Portfolio\\,Value_{@date-365}}$\n",
        "\n",
        "6.   At this point there should be a ROR value for every date in the date range ((Start Date + 365) to End Date). Our outputs of interest can now be calculated in the following way:\n",
        "\n",
        "  $Annualized\\,ROR=[(1+ROR_{1})\\times(1+ROR_{2})\\times...\\times(1+ROR_{n})]^{1/n}-1$\n",
        "\n",
        "  $Maximum\\,Annual\\,Loss=Minimum(ROR_{1}, ROR_{2},..., ROR_{n})$\n",
        "\n",
        "7.  Repeat the process for the remaining asset allocation combinations. The final output will contain 53130 rows of calculated data.\n",
        "\n",
        "The code used to calculate these results is broken down into four blocks. Block one requires a csv titled \"asset_combinations\" to be loaded and an initial investment amount specified. The end result is a DataFrame that contains the beginning number of shares of each asset for every asset allocation combination.\n"
      ]
    },
    {
      "cell_type": "code",
      "metadata": {
        "colab": {
          "base_uri": "https://localhost:8080/",
          "height": 203
        },
        "id": "avC4x8VNulAH",
        "outputId": "046d5157-b87e-4a61-8d90-41b87cd5743c"
      },
      "source": [
        "# Import csv file that contains all unique combinations of asset allocation for 6 assets (53130 combinations). \n",
        "# Convert csv file to a DataFrame called \"combinations_df\". \n",
        "combinations_df = pd.read_csv('/content/gdrive/My Drive/capstone_3_csv_files/asset_combinations.csv')\n",
        "\n",
        "# Define initial investment amount used to purchase shares on start_date.\n",
        "initial_investment = 10000\n",
        "\n",
        "# Create a new DataFrame called \"combinations_df_edit\" that includes the beginning quantity of shares for each asset allocation combination. \n",
        "initial_share_prices = []\n",
        "for ticker in tickers:\n",
        "  initial_share_price = df_final[ticker].iloc[0]\n",
        "  initial_share_prices.append(initial_share_price)\n",
        "\n",
        "combinations_df_edit = combinations_df.assign(asset_1_initial_shares = combinations_df['asset_1']*initial_investment/initial_share_prices[0],\n",
        "                                         asset_2_initial_shares = combinations_df['asset_2']*initial_investment/initial_share_prices[1],\n",
        "                                         asset_3_initial_shares = combinations_df['asset_3']*initial_investment/initial_share_prices[2],\n",
        "                                         asset_4_initial_shares = combinations_df['asset_4']*initial_investment/initial_share_prices[3],\n",
        "                                         asset_5_initial_shares = combinations_df['asset_5']*initial_investment/initial_share_prices[4],\n",
        "                                         asset_6_initial_shares = combinations_df['asset_6']*initial_investment/initial_share_prices[5])\n",
        "\n",
        "combinations_df_edit = combinations_df_edit.drop(['Combination', 'asset_1', 'asset_2', 'asset_3', 'asset_4', 'asset_5', 'asset_6'], axis = 1)\n",
        "\n",
        "# View first 5 rows in combinations_df_edit DataFrame.\n",
        "combinations_df_edit.head()"
      ],
      "execution_count": null,
      "outputs": [
        {
          "data": {
            "text/html": [
              "<div>\n",
              "<style scoped>\n",
              "    .dataframe tbody tr th:only-of-type {\n",
              "        vertical-align: middle;\n",
              "    }\n",
              "\n",
              "    .dataframe tbody tr th {\n",
              "        vertical-align: top;\n",
              "    }\n",
              "\n",
              "    .dataframe thead th {\n",
              "        text-align: right;\n",
              "    }\n",
              "</style>\n",
              "<table border=\"1\" class=\"dataframe\">\n",
              "  <thead>\n",
              "    <tr style=\"text-align: right;\">\n",
              "      <th></th>\n",
              "      <th>asset_1_initial_shares</th>\n",
              "      <th>asset_2_initial_shares</th>\n",
              "      <th>asset_3_initial_shares</th>\n",
              "      <th>asset_4_initial_shares</th>\n",
              "      <th>asset_5_initial_shares</th>\n",
              "      <th>asset_6_initial_shares</th>\n",
              "    </tr>\n",
              "  </thead>\n",
              "  <tbody>\n",
              "    <tr>\n",
              "      <th>0</th>\n",
              "      <td>0.000000</td>\n",
              "      <td>0.000000</td>\n",
              "      <td>0.000000</td>\n",
              "      <td>0.000000</td>\n",
              "      <td>0.0</td>\n",
              "      <td>16.118633</td>\n",
              "    </tr>\n",
              "    <tr>\n",
              "      <th>1</th>\n",
              "      <td>0.000000</td>\n",
              "      <td>0.000000</td>\n",
              "      <td>0.000000</td>\n",
              "      <td>5.242739</td>\n",
              "      <td>0.0</td>\n",
              "      <td>15.312701</td>\n",
              "    </tr>\n",
              "    <tr>\n",
              "      <th>2</th>\n",
              "      <td>0.000000</td>\n",
              "      <td>0.000000</td>\n",
              "      <td>18.382352</td>\n",
              "      <td>0.000000</td>\n",
              "      <td>0.0</td>\n",
              "      <td>15.312701</td>\n",
              "    </tr>\n",
              "    <tr>\n",
              "      <th>3</th>\n",
              "      <td>0.000000</td>\n",
              "      <td>39.154266</td>\n",
              "      <td>0.000000</td>\n",
              "      <td>0.000000</td>\n",
              "      <td>0.0</td>\n",
              "      <td>15.312701</td>\n",
              "    </tr>\n",
              "    <tr>\n",
              "      <th>4</th>\n",
              "      <td>16.139445</td>\n",
              "      <td>0.000000</td>\n",
              "      <td>0.000000</td>\n",
              "      <td>0.000000</td>\n",
              "      <td>0.0</td>\n",
              "      <td>15.312701</td>\n",
              "    </tr>\n",
              "  </tbody>\n",
              "</table>\n",
              "</div>"
            ],
            "text/plain": [
              "   asset_1_initial_shares  ...  asset_6_initial_shares\n",
              "0                0.000000  ...               16.118633\n",
              "1                0.000000  ...               15.312701\n",
              "2                0.000000  ...               15.312701\n",
              "3                0.000000  ...               15.312701\n",
              "4               16.139445  ...               15.312701\n",
              "\n",
              "[5 rows x 6 columns]"
            ]
          },
          "execution_count": 23,
          "metadata": {},
          "output_type": "execute_result"
        }
      ]
    },
    {
      "cell_type": "markdown",
      "metadata": {
        "id": "o7cxMcFuFPvS"
      },
      "source": [
        "Block 2 is a preparation step that extracts closing prices and distribution data from the DataFrame and assembles it in a list format. I initially wanted to do all the calculations within the DataFrame but it was too time consuming when running for loops so I opted to extract the data into these list formats. "
      ]
    },
    {
      "cell_type": "code",
      "metadata": {
        "colab": {
          "base_uri": "https://localhost:8080/"
        },
        "id": "8Y_dFfNpaSrm",
        "outputId": "297c3186-645a-4007-dff9-d60ad2ae7a53"
      },
      "source": [
        "# Create a list of lists for each asset that includes closing price and distribution amount for each date in the investing period.\n",
        "# Each nested list should have the format ['closing price', 'distribution amount']\n",
        "\n",
        "# Extract closing price and distribution data from df_final DataFrame.\n",
        "# Asset 1\n",
        "ticker_1_prices = df_final[tickers[0]].tolist()\n",
        "ticker_1_dist = df_final[tickers[0] + '_DIST'].tolist()\n",
        "\n",
        "# Asset 2\n",
        "ticker_2_prices = df_final[tickers[1]].tolist()\n",
        "ticker_2_dist = df_final[tickers[1] + '_DIST'].tolist()\n",
        "\n",
        "# Asset 3\n",
        "ticker_3_prices = df_final[tickers[2]].tolist()\n",
        "ticker_3_dist = df_final[tickers[2] + '_DIST'].tolist()\n",
        "\n",
        "# Asset 4\n",
        "ticker_4_prices = df_final[tickers[3]].tolist()\n",
        "ticker_4_dist = df_final[tickers[3] + '_DIST'].tolist()\n",
        "\n",
        "# Asset 5\n",
        "ticker_5_prices = df_final[tickers[4]].tolist()\n",
        "ticker_5_dist = df_final[tickers[4] + '_DIST'].tolist()\n",
        "\n",
        "# Asset 6\n",
        "ticker_6_prices = df_final[tickers[5]].tolist()\n",
        "ticker_6_dist = df_final[tickers[5] + '_DIST'].tolist()\n",
        "\n",
        "# Create function called \"merge\" that combines closing price and distribution data into a single list.\n",
        "def merge(list1, list2):\n",
        "      \n",
        "    merged_list = [(list1[i], list2[i]) for i in range(0, len(list1))]\n",
        "    return merged_list\n",
        "\n",
        "# Use new merge function to create lists for each of the 6 assets. \n",
        "ticker_1_info = merge(ticker_1_prices, ticker_1_dist)\n",
        "ticker_2_info = merge(ticker_2_prices, ticker_2_dist)\n",
        "ticker_3_info = merge(ticker_3_prices, ticker_3_dist)\n",
        "ticker_4_info = merge(ticker_4_prices, ticker_4_dist)\n",
        "ticker_5_info = merge(ticker_5_prices, ticker_5_dist)\n",
        "ticker_6_info = merge(ticker_6_prices, ticker_6_dist)\n",
        "\n",
        "# Print first 5 items in ticker_1_info to make sure format is correct. \n",
        "print(ticker_1_info[:5])"
      ],
      "execution_count": null,
      "outputs": [
        {
          "name": "stdout",
          "output_type": "stream",
          "text": [
            "[(30.979999542236328, 0.0), (30.979999542236328, 0.0), (30.979999542236328, 0.0), (30.854999542236328, 0.0), (30.729999542236328, 0.0)]\n"
          ]
        }
      ]
    },
    {
      "cell_type": "markdown",
      "metadata": {
        "id": "Nsp_j13tHsCB"
      },
      "source": [
        "Block 3 defines a function that will calculate the quantity of shares of each fund for every date in the investing period. This step captures the changes in share quantity as a result of reinvested dividends and capital gains distributions."
      ]
    },
    {
      "cell_type": "code",
      "metadata": {
        "id": "9KPZD_FLuki7"
      },
      "source": [
        "# Create a function that returns the number of shares of each asset for every date in the investing period.\n",
        "def calc_shares(info_1, info_2, info_3, info_4, info_5, info_6, initial_shares):\n",
        "  # Create empty lists to populate for each asset.\n",
        "  ticker_1_shares, ticker_2_shares, ticker_3_shares, ticker_4_shares, ticker_5_shares, ticker_6_shares = [], [], [], [], [], []\n",
        "  # Assign initial quantity of shares for each asset.\n",
        "  ticker_1_current_shares, ticker_2_current_shares, ticker_3_current_shares, ticker_4_current_shares, ticker_5_current_shares, ticker_6_current_shares = initial_shares[0], initial_shares[1], initial_shares[2], initial_shares[3], initial_shares[4], initial_shares[5]\n",
        "\n",
        "  # Calculate number of shares of each asset for every date in the investing period.\n",
        "  # Asset 1\n",
        "  for a in info_1:\n",
        "    ticker_1_current_shares = ticker_1_current_shares + ticker_1_current_shares * a[1] / a[0]\n",
        "    ticker_1_shares.append(ticker_1_current_shares)\n",
        "\n",
        "  # Asset 2\n",
        "  for b in info_2:\n",
        "    ticker_2_current_shares = ticker_2_current_shares + ticker_2_current_shares * b[1] / b[0]\n",
        "    ticker_2_shares.append(ticker_2_current_shares)\n",
        "\n",
        "  # Asset 3\n",
        "  for c in info_3:\n",
        "    ticker_3_current_shares = ticker_3_current_shares + ticker_3_current_shares * c[1] / c[0]\n",
        "    ticker_3_shares.append(ticker_3_current_shares)\n",
        "\n",
        "  # Asset 4\n",
        "  for d in info_4:\n",
        "    ticker_4_current_shares = ticker_4_current_shares + ticker_4_current_shares * d[1] / d[0]\n",
        "    ticker_4_shares.append(ticker_4_current_shares)\n",
        "\n",
        "  # Asset 5\n",
        "  for e in info_5:\n",
        "    ticker_5_current_shares = ticker_5_current_shares + ticker_5_current_shares * e[1] / e[0]\n",
        "    ticker_5_shares.append(ticker_5_current_shares)\n",
        "\n",
        "  # Asset 6\n",
        "  for f in info_6:\n",
        "    ticker_6_current_shares = ticker_6_current_shares + ticker_6_current_shares * f[1] / f[0]\n",
        "    ticker_6_shares.append(ticker_6_current_shares)\n",
        "\n",
        "  # Return a list of lists with each nested list containing the number of shares of each asset for every date in the investing period.\n",
        "  return ticker_1_shares, ticker_2_shares, ticker_3_shares, ticker_4_shares, ticker_5_shares, ticker_6_shares"
      ],
      "execution_count": null,
      "outputs": []
    },
    {
      "cell_type": "markdown",
      "metadata": {
        "id": "5XYVes3HICDo"
      },
      "source": [
        "Block 4 is where everything comes together. Here I incorporate my extracted closing price and distribution lists with the function for calculating share quantity and then cycle through every asset allocation combination with a for loop. There are 3 results lists returned in this block. The two lists we are interested in are the Average Annualized Rates of Return contained in the list named \"Avg_AnROR_List\" and the Maximum Annual Losses contained in the list named \"Max_Loss_List\". \n",
        "\n",
        "It should also be noted that this block takes approximately 20 minutes to finish processing."
      ]
    },
    {
      "cell_type": "code",
      "metadata": {
        "colab": {
          "background_save": true
        },
        "id": "EGRZ9aQXM-ZJ"
      },
      "source": [
        "# WARNING: Cell takes approximately 20 minutes to run.\n",
        "\n",
        "# Use a combination of for looping and the calc_shares function to create outputs of interest for each asset allocation combination.\n",
        "# Returns 3 outputs of interest: Average Annual Return, Average Annualized Return, and Maximum Annual Loss\n",
        "# Each output is a list containing a value for each unique asset allocation combination.\n",
        "\n",
        "# Ensure df_final DataFrame is set to the correct starting format.\n",
        "df_final = pd.merge(dates_df, df, left_index=True, right_index=True)\n",
        "# Convert combinations_df_edit DataFrame to a list called \"combinations\". (Will be used for the calc_shares function)\n",
        "combinations = combinations_df_edit.to_numpy().tolist()\n",
        "# Create empty lists for the 3 outputs of interest.\n",
        "Avg_AROR_List = []\n",
        "Avg_AnROR_List = []\n",
        "Max_Loss_List = []\n",
        "\n",
        "# Loop through each asset allocation combination.\n",
        "for combination in combinations:\n",
        "  # Use the calc_shares function to calculate number of shares of each asset for every date in the investing period.\n",
        "  all_shares = calc_shares(ticker_1_info, ticker_2_info, ticker_3_info, ticker_4_info, ticker_5_info, ticker_6_info, combination)\n",
        "\n",
        "  # Add 6 new columns to df_final DataFrame that give the number of shares of each asset for every date in the investing period.\n",
        "  df_final['ASSET_1_SHARES']= all_shares[0]\n",
        "  df_final['ASSET_2_SHARES']= all_shares[1]\n",
        "  df_final['ASSET_3_SHARES']= all_shares[2]\n",
        "  df_final['ASSET_4_SHARES']= all_shares[3]\n",
        "  df_final['ASSET_5_SHARES']= all_shares[4]\n",
        "  df_final['ASSET_6_SHARES']= all_shares[5]\n",
        "\n",
        "  # Calculate total portfolio value at every date in the investing period.\n",
        "  df_final['TOTAL_VALUE'] = df_final[tickers[0]] * df_final['ASSET_1_SHARES'] + df_final[tickers[1]] * df_final['ASSET_2_SHARES'] + df_final[tickers[2]] * df_final['ASSET_3_SHARES'] + df_final[tickers[3]] * df_final['ASSET_4_SHARES'] + df_final[tickers[4]] * df_final['ASSET_5_SHARES'] + df_final[tickers[5]] * df_final['ASSET_6_SHARES']\n",
        "  # Calculate a running 365 day rate of return.\n",
        "  df_final['AROR'] = (df_final['TOTAL_VALUE'] - df_final['TOTAL_VALUE'].shift(365)) / df_final['TOTAL_VALUE'].shift(365)\n",
        "  # Drop the first year worth of rate of return values as these will be null values.\n",
        "  df_final.drop(index=df_final.index[:365], axis=0, inplace=True)\n",
        "  # Create new column used for calculating annualized rate of return.\n",
        "  df_final['GMean_Value'] = 1 + df_final['AROR']\n",
        "\n",
        "  # Calculate average annual rate of return and append to the appropriate output list.\n",
        "  Avg_AROR = df_final['AROR'].mean()\n",
        "  Avg_AROR_Perc = round(Avg_AROR * 100, 2)\n",
        "  Avg_AROR_List.append(Avg_AROR_Perc)\n",
        "\n",
        "  # Calculate average annualized rate of return and append to the appropriate output list.\n",
        "  Avg_AnROR = ((df_final['GMean_Value'].product())**(1/len(df_final)))-1\n",
        "  Avg_AnROR_Perc = round(Avg_AnROR * 100, 2)\n",
        "  Avg_AnROR_List.append(Avg_AnROR_Perc)\n",
        "\n",
        "  # Calculate maximum loss and append to the appropriate output list.\n",
        "  Max_Loss = df_final['AROR'].min()\n",
        "  Max_Loss_Perc = round(Max_Loss * 100, 2)\n",
        "  Max_Loss_List.append(Max_Loss_Perc)\n",
        "\n",
        "  # Reset df_final DataFrame to the correct starting format before returning to the beginning of the loop.\n",
        "  df_final = pd.merge(dates_df, df, left_index=True, right_index=True)"
      ],
      "execution_count": null,
      "outputs": []
    },
    {
      "cell_type": "markdown",
      "metadata": {
        "id": "_f7tOdAtMXn9"
      },
      "source": [
        "The results can now be appended back into the original asset allocation combination DataFrame and exported to a csv file for future use. At this point we now have the final dataset for institution 1. To get the dataset for institution 2 it is necessary to repeat the data loading, wrangling, and calculations steps with the necessary inputs for institution 2."
      ]
    },
    {
      "cell_type": "code",
      "metadata": {
        "colab": {
          "base_uri": "https://localhost:8080/",
          "height": 203
        },
        "id": "LrVlS_PcVH9F",
        "outputId": "35743c95-02e8-4fe4-cc52-fbe2b68e8d69"
      },
      "source": [
        "# Add results outputs to the original combinations_df DataFrame.\n",
        "combinations_df['Avg_AROR'] = Avg_AROR_List\n",
        "combinations_df['Avg_AnROR'] = Avg_AnROR_List\n",
        "combinations_df['Max_Loss'] = Max_Loss_List\n",
        "\n",
        "# Export combinations_df DataFrame as a csv file if so desired.\n",
        "combinations_df.to_csv('/content/gdrive/My Drive/capstone_3_csv_files/project_combinations2.csv')\n",
        "\n",
        "# View the first 5 rows of combinations_df DataFrame.\n",
        "# DataFrame should include asset allocation details as well as columns for average annual return, average annualized return, and maximum loss.\n",
        "combinations_df.head()\n"
      ],
      "execution_count": null,
      "outputs": [
        {
          "data": {
            "text/html": [
              "<div>\n",
              "<style scoped>\n",
              "    .dataframe tbody tr th:only-of-type {\n",
              "        vertical-align: middle;\n",
              "    }\n",
              "\n",
              "    .dataframe tbody tr th {\n",
              "        vertical-align: top;\n",
              "    }\n",
              "\n",
              "    .dataframe thead th {\n",
              "        text-align: right;\n",
              "    }\n",
              "</style>\n",
              "<table border=\"1\" class=\"dataframe\">\n",
              "  <thead>\n",
              "    <tr style=\"text-align: right;\">\n",
              "      <th></th>\n",
              "      <th>Combination</th>\n",
              "      <th>asset_1</th>\n",
              "      <th>asset_2</th>\n",
              "      <th>asset_3</th>\n",
              "      <th>asset_4</th>\n",
              "      <th>asset_5</th>\n",
              "      <th>asset_6</th>\n",
              "      <th>Avg_AROR</th>\n",
              "      <th>Avg_AnROR</th>\n",
              "      <th>Max_Loss</th>\n",
              "    </tr>\n",
              "  </thead>\n",
              "  <tbody>\n",
              "    <tr>\n",
              "      <th>0</th>\n",
              "      <td>AAAAAU</td>\n",
              "      <td>0.00</td>\n",
              "      <td>0.00</td>\n",
              "      <td>0.00</td>\n",
              "      <td>0.00</td>\n",
              "      <td>0.0</td>\n",
              "      <td>1.00</td>\n",
              "      <td>2.93</td>\n",
              "      <td>2.76</td>\n",
              "      <td>-13.39</td>\n",
              "    </tr>\n",
              "    <tr>\n",
              "      <th>1</th>\n",
              "      <td>AAABAT</td>\n",
              "      <td>0.00</td>\n",
              "      <td>0.00</td>\n",
              "      <td>0.00</td>\n",
              "      <td>0.05</td>\n",
              "      <td>0.0</td>\n",
              "      <td>0.95</td>\n",
              "      <td>3.08</td>\n",
              "      <td>2.90</td>\n",
              "      <td>-14.96</td>\n",
              "    </tr>\n",
              "    <tr>\n",
              "      <th>2</th>\n",
              "      <td>AABAAT</td>\n",
              "      <td>0.00</td>\n",
              "      <td>0.00</td>\n",
              "      <td>0.05</td>\n",
              "      <td>0.00</td>\n",
              "      <td>0.0</td>\n",
              "      <td>0.95</td>\n",
              "      <td>3.07</td>\n",
              "      <td>2.88</td>\n",
              "      <td>-16.34</td>\n",
              "    </tr>\n",
              "    <tr>\n",
              "      <th>3</th>\n",
              "      <td>ABAAAT</td>\n",
              "      <td>0.00</td>\n",
              "      <td>0.05</td>\n",
              "      <td>0.00</td>\n",
              "      <td>0.00</td>\n",
              "      <td>0.0</td>\n",
              "      <td>0.95</td>\n",
              "      <td>2.96</td>\n",
              "      <td>2.79</td>\n",
              "      <td>-15.21</td>\n",
              "    </tr>\n",
              "    <tr>\n",
              "      <th>4</th>\n",
              "      <td>BAAAAT</td>\n",
              "      <td>0.05</td>\n",
              "      <td>0.00</td>\n",
              "      <td>0.00</td>\n",
              "      <td>0.00</td>\n",
              "      <td>0.0</td>\n",
              "      <td>0.95</td>\n",
              "      <td>3.48</td>\n",
              "      <td>3.31</td>\n",
              "      <td>-14.69</td>\n",
              "    </tr>\n",
              "  </tbody>\n",
              "</table>\n",
              "</div>"
            ],
            "text/plain": [
              "  Combination  asset_1  asset_2  ...  Avg_AROR  Avg_AnROR  Max_Loss\n",
              "0      AAAAAU     0.00     0.00  ...      2.93       2.76    -13.39\n",
              "1      AAABAT     0.00     0.00  ...      3.08       2.90    -14.96\n",
              "2      AABAAT     0.00     0.00  ...      3.07       2.88    -16.34\n",
              "3      ABAAAT     0.00     0.05  ...      2.96       2.79    -15.21\n",
              "4      BAAAAT     0.05     0.00  ...      3.48       3.31    -14.69\n",
              "\n",
              "[5 rows x 10 columns]"
            ]
          },
          "execution_count": 11,
          "metadata": {},
          "output_type": "execute_result"
        }
      ]
    },
    {
      "cell_type": "markdown",
      "metadata": {
        "id": "NphzawxBO_MS"
      },
      "source": [
        "#5. Statistical Analysis\n",
        "\n",
        "With the final datasets now assembled it is time to conduct the statistical analysis to determine which institution has the better performing lineup of funds. The final calculated variables can be accessed using the csv file called 'final_combined_outputs_updated'. This csv file contains the quantitative variables average annualized rate of return (Avg_AnROR) and maximum annual loss (Max_Loss), and a categorical variable that identifies the financial institution (Institution). \n",
        "\n"
      ]
    },
    {
      "cell_type": "code",
      "metadata": {
        "colab": {
          "base_uri": "https://localhost:8080/",
          "height": 206
        },
        "id": "YiGuwH_ie-UC",
        "outputId": "1898cdf2-a023-4ee5-88d2-5ab7911ae9ce"
      },
      "source": [
        "# Import csv file containing average annual rate of return, average annualized rate of return, and max loss data for both financial institutions.\n",
        "# Convert csv file into a DataFrame called results_df\n",
        "results_df = pd.read_csv('/content/gdrive/My Drive/capstone_3_csv_files/final_combined_outputs_updated.csv')\n",
        "\n",
        "# Create separate data frames for institutions 1 and 2 using the categorical variable 'Institution'.\n",
        "results_institution_1 = results_df.iloc[(results_df['Institution'] == 'Institution_1').values]\n",
        "results_institution_2 = results_df.iloc[(results_df['Institution'] == 'Institution_2').values]\n",
        "\n",
        "# View the first 5 rows of results_df DataFrame.\n",
        "results_df.head()"
      ],
      "execution_count": null,
      "outputs": [
        {
          "data": {
            "text/html": [
              "<div>\n",
              "<style scoped>\n",
              "    .dataframe tbody tr th:only-of-type {\n",
              "        vertical-align: middle;\n",
              "    }\n",
              "\n",
              "    .dataframe tbody tr th {\n",
              "        vertical-align: top;\n",
              "    }\n",
              "\n",
              "    .dataframe thead th {\n",
              "        text-align: right;\n",
              "    }\n",
              "</style>\n",
              "<table border=\"1\" class=\"dataframe\">\n",
              "  <thead>\n",
              "    <tr style=\"text-align: right;\">\n",
              "      <th></th>\n",
              "      <th>Avg_AnROR</th>\n",
              "      <th>Max_Loss</th>\n",
              "      <th>Institution</th>\n",
              "    </tr>\n",
              "  </thead>\n",
              "  <tbody>\n",
              "    <tr>\n",
              "      <th>0</th>\n",
              "      <td>1.86</td>\n",
              "      <td>-9.60</td>\n",
              "      <td>Institution_1</td>\n",
              "    </tr>\n",
              "    <tr>\n",
              "      <th>1</th>\n",
              "      <td>2.22</td>\n",
              "      <td>-8.87</td>\n",
              "      <td>Institution_1</td>\n",
              "    </tr>\n",
              "    <tr>\n",
              "      <th>2</th>\n",
              "      <td>2.02</td>\n",
              "      <td>-9.25</td>\n",
              "      <td>Institution_1</td>\n",
              "    </tr>\n",
              "    <tr>\n",
              "      <th>3</th>\n",
              "      <td>2.19</td>\n",
              "      <td>-7.94</td>\n",
              "      <td>Institution_1</td>\n",
              "    </tr>\n",
              "    <tr>\n",
              "      <th>4</th>\n",
              "      <td>2.87</td>\n",
              "      <td>-7.54</td>\n",
              "      <td>Institution_1</td>\n",
              "    </tr>\n",
              "  </tbody>\n",
              "</table>\n",
              "</div>"
            ],
            "text/plain": [
              "   Avg_AnROR  Max_Loss    Institution\n",
              "0       1.86     -9.60  Institution_1\n",
              "1       2.22     -8.87  Institution_1\n",
              "2       2.02     -9.25  Institution_1\n",
              "3       2.19     -7.94  Institution_1\n",
              "4       2.87     -7.54  Institution_1"
            ]
          },
          "execution_count": 5,
          "metadata": {},
          "output_type": "execute_result"
        }
      ]
    },
    {
      "cell_type": "markdown",
      "metadata": {
        "id": "8GlER5u_lu7c"
      },
      "source": [
        "Before proceeding to the t-test analyses let's have a look at the descriptive statistics for institution 1."
      ]
    },
    {
      "cell_type": "code",
      "metadata": {
        "colab": {
          "base_uri": "https://localhost:8080/",
          "height": 300
        },
        "id": "rfCgBHvo8DyK",
        "outputId": "476ed529-0746-4829-b4dd-5f3f4050e491"
      },
      "source": [
        "# Calculate summary statistics for all variables.\n",
        "results_institution_1[['Avg_AnROR', 'Max_Loss']].describe()"
      ],
      "execution_count": null,
      "outputs": [
        {
          "data": {
            "text/html": [
              "<div>\n",
              "<style scoped>\n",
              "    .dataframe tbody tr th:only-of-type {\n",
              "        vertical-align: middle;\n",
              "    }\n",
              "\n",
              "    .dataframe tbody tr th {\n",
              "        vertical-align: top;\n",
              "    }\n",
              "\n",
              "    .dataframe thead th {\n",
              "        text-align: right;\n",
              "    }\n",
              "</style>\n",
              "<table border=\"1\" class=\"dataframe\">\n",
              "  <thead>\n",
              "    <tr style=\"text-align: right;\">\n",
              "      <th></th>\n",
              "      <th>Avg_AnROR</th>\n",
              "      <th>Max_Loss</th>\n",
              "    </tr>\n",
              "  </thead>\n",
              "  <tbody>\n",
              "    <tr>\n",
              "      <th>count</th>\n",
              "      <td>53130.000000</td>\n",
              "      <td>53130.000000</td>\n",
              "    </tr>\n",
              "    <tr>\n",
              "      <th>mean</th>\n",
              "      <td>7.036789</td>\n",
              "      <td>-17.462573</td>\n",
              "    </tr>\n",
              "    <tr>\n",
              "      <th>std</th>\n",
              "      <td>1.937830</td>\n",
              "      <td>5.450648</td>\n",
              "    </tr>\n",
              "    <tr>\n",
              "      <th>min</th>\n",
              "      <td>1.860000</td>\n",
              "      <td>-30.990000</td>\n",
              "    </tr>\n",
              "    <tr>\n",
              "      <th>25%</th>\n",
              "      <td>5.640000</td>\n",
              "      <td>-21.560000</td>\n",
              "    </tr>\n",
              "    <tr>\n",
              "      <th>50%</th>\n",
              "      <td>6.820000</td>\n",
              "      <td>-18.120000</td>\n",
              "    </tr>\n",
              "    <tr>\n",
              "      <th>75%</th>\n",
              "      <td>8.260000</td>\n",
              "      <td>-13.840000</td>\n",
              "    </tr>\n",
              "    <tr>\n",
              "      <th>max</th>\n",
              "      <td>14.550000</td>\n",
              "      <td>-1.950000</td>\n",
              "    </tr>\n",
              "  </tbody>\n",
              "</table>\n",
              "</div>"
            ],
            "text/plain": [
              "          Avg_AnROR      Max_Loss\n",
              "count  53130.000000  53130.000000\n",
              "mean       7.036789    -17.462573\n",
              "std        1.937830      5.450648\n",
              "min        1.860000    -30.990000\n",
              "25%        5.640000    -21.560000\n",
              "50%        6.820000    -18.120000\n",
              "75%        8.260000    -13.840000\n",
              "max       14.550000     -1.950000"
            ]
          },
          "execution_count": 28,
          "metadata": {},
          "output_type": "execute_result"
        }
      ]
    },
    {
      "cell_type": "markdown",
      "metadata": {
        "id": "q09N5oMCmtzC"
      },
      "source": [
        "And now institution 2."
      ]
    },
    {
      "cell_type": "code",
      "metadata": {
        "colab": {
          "base_uri": "https://localhost:8080/",
          "height": 300
        },
        "id": "hWL8NMxPmiwN",
        "outputId": "9b827d0e-6175-44a0-c656-deb9ea2468cd"
      },
      "source": [
        "results_institution_2[['Avg_AnROR', 'Max_Loss']].describe()"
      ],
      "execution_count": null,
      "outputs": [
        {
          "data": {
            "text/html": [
              "<div>\n",
              "<style scoped>\n",
              "    .dataframe tbody tr th:only-of-type {\n",
              "        vertical-align: middle;\n",
              "    }\n",
              "\n",
              "    .dataframe tbody tr th {\n",
              "        vertical-align: top;\n",
              "    }\n",
              "\n",
              "    .dataframe thead th {\n",
              "        text-align: right;\n",
              "    }\n",
              "</style>\n",
              "<table border=\"1\" class=\"dataframe\">\n",
              "  <thead>\n",
              "    <tr style=\"text-align: right;\">\n",
              "      <th></th>\n",
              "      <th>Avg_AnROR</th>\n",
              "      <th>Max_Loss</th>\n",
              "    </tr>\n",
              "  </thead>\n",
              "  <tbody>\n",
              "    <tr>\n",
              "      <th>count</th>\n",
              "      <td>53130.000000</td>\n",
              "      <td>53130.000000</td>\n",
              "    </tr>\n",
              "    <tr>\n",
              "      <th>mean</th>\n",
              "      <td>6.786115</td>\n",
              "      <td>-18.243626</td>\n",
              "    </tr>\n",
              "    <tr>\n",
              "      <th>std</th>\n",
              "      <td>1.924360</td>\n",
              "      <td>5.945743</td>\n",
              "    </tr>\n",
              "    <tr>\n",
              "      <th>min</th>\n",
              "      <td>2.160000</td>\n",
              "      <td>-36.730000</td>\n",
              "    </tr>\n",
              "    <tr>\n",
              "      <th>25%</th>\n",
              "      <td>5.370000</td>\n",
              "      <td>-22.450000</td>\n",
              "    </tr>\n",
              "    <tr>\n",
              "      <th>50%</th>\n",
              "      <td>6.490000</td>\n",
              "      <td>-18.700000</td>\n",
              "    </tr>\n",
              "    <tr>\n",
              "      <th>75%</th>\n",
              "      <td>7.990000</td>\n",
              "      <td>-14.270000</td>\n",
              "    </tr>\n",
              "    <tr>\n",
              "      <th>max</th>\n",
              "      <td>14.510000</td>\n",
              "      <td>-1.930000</td>\n",
              "    </tr>\n",
              "  </tbody>\n",
              "</table>\n",
              "</div>"
            ],
            "text/plain": [
              "          Avg_AnROR      Max_Loss\n",
              "count  53130.000000  53130.000000\n",
              "mean       6.786115    -18.243626\n",
              "std        1.924360      5.945743\n",
              "min        2.160000    -36.730000\n",
              "25%        5.370000    -22.450000\n",
              "50%        6.490000    -18.700000\n",
              "75%        7.990000    -14.270000\n",
              "max       14.510000     -1.930000"
            ]
          },
          "execution_count": 29,
          "metadata": {},
          "output_type": "execute_result"
        }
      ]
    },
    {
      "cell_type": "markdown",
      "metadata": {
        "id": "-tTA-BMBm78n"
      },
      "source": [
        "The range of Avg_AnROR values appear to be fairly similar for both institutions although institution 1 does have a slightly higher mean Avg_AnROR at 7.04% vs 6.79%. For Max_Loss Institution 2 has a wider range of values with a majority of the additional range coming in on the low side. Institution 2 also has a higher average Max_Loss than Institution 1 at -18.24% vs - 17.46%.\n",
        "\n",
        "Let's have a look at the density curves and box plots of each variable to see if anything else stands out."
      ]
    },
    {
      "cell_type": "code",
      "metadata": {
        "colab": {
          "base_uri": "https://localhost:8080/",
          "height": 571
        },
        "id": "O23pGMXMfa90",
        "outputId": "cbf43c3f-b4bd-47b2-e087-85cdaac679fe"
      },
      "source": [
        "# Generate density plots for the annualized rates of returns for both institutions.\n",
        "sns.kdeplot(results_institution_1['Avg_AnROR'], color=\"blue\", label=\"Inst_1_Avg_AnROR\")\n",
        "sns.kdeplot(results_institution_2['Avg_AnROR'], color=\"orange\", label=\"Inst_2_Avg_AnROR\")\n",
        "\n",
        "plt.legend() \n",
        "plt.show()\n",
        "\n",
        "# Generate box plots for the annualized rates of returns for both institutions.\n",
        "sns.boxplot(y='Avg_AnROR', x=\"Institution\", data=results_df)"
      ],
      "execution_count": null,
      "outputs": [
        {
          "data": {
            "image/png": "[encoded data removed]",
            "text/plain": [
              "<Figure size 432x288 with 1 Axes>"
            ]
          },
          "metadata": {},
          "output_type": "display_data"
        },
        {
          "data": {
            "text/plain": [
              "<matplotlib.axes._subplots.AxesSubplot at 0x7fa5f7d2fb10>"
            ]
          },
          "execution_count": 30,
          "metadata": {},
          "output_type": "execute_result"
        },
        {
          "data": {
            "image/png": "[encoded data removed]",
            "text/plain": [
              "<Figure size 432x288 with 1 Axes>"
            ]
          },
          "metadata": {},
          "output_type": "display_data"
        }
      ]
    },
    {
      "cell_type": "markdown",
      "metadata": {
        "id": "9obob77KrpYc"
      },
      "source": [
        "The visualizations for Avg_AnROR support the summary statistics. The range of values are quite similar with a slight difference in the mean of Avg_AnROR between the two institutions. Additionally, the density curves appear to be fairly normally distriuted with just a slight right skew which is also supported by the box plots with a few outliers appearing on the high side."
      ]
    },
    {
      "cell_type": "code",
      "metadata": {
        "colab": {
          "base_uri": "https://localhost:8080/",
          "height": 571
        },
        "id": "zoJakYOx_ae_",
        "outputId": "e07cc8ac-3d74-4799-9566-b42e30961aa6"
      },
      "source": [
        "# Generate density plots for the max losses for both institutions.\n",
        "sns.kdeplot(results_institution_1['Max_Loss'], color=\"blue\", label=\"Inst_1_Max_Loss\")\n",
        "sns.kdeplot(results_institution_2['Max_Loss'], color=\"orange\", label=\"Inst_2_Max_Loss\")\n",
        "\n",
        "plt.legend() \n",
        "plt.show()\n",
        "\n",
        "# Generate box plots for the max_losses for both institutions.\n",
        "sns.boxplot(y='Max_Loss', x=\"Institution\", data=results_df)"
      ],
      "execution_count": null,
      "outputs": [
        {
          "data": {
            "image/png": "[encoded data removed]",
            "text/plain": [
              "<Figure size 432x288 with 1 Axes>"
            ]
          },
          "metadata": {},
          "output_type": "display_data"
        },
        {
          "data": {
            "text/plain": [
              "<matplotlib.axes._subplots.AxesSubplot at 0x7fa5f7bc4650>"
            ]
          },
          "execution_count": 32,
          "metadata": {},
          "output_type": "execute_result"
        },
        {
          "data": {
            "image/png": "[encoded data removed]",
            "text/plain": [
              "<Figure size 432x288 with 1 Axes>"
            ]
          },
          "metadata": {},
          "output_type": "display_data"
        }
      ]
    },
    {
      "cell_type": "markdown",
      "metadata": {
        "id": "CBWpeDWys41F"
      },
      "source": [
        "The visualizations for Max_Loss also support the summary statistics. The most apparent takeway is the extended range of values to the low side for Institution 2. Additionally the Max_Loss variables appear to be very close to normally distributed.\n",
        "\n",
        "But now to the question we really want the answer to. The descriptive statistics and visualizations show that there is a difference between the means of both variables. Institution 1 has higher average returns and lower maximum losses, but are they actually statistically significant? \n",
        "\n",
        "Before we run our t-tests let's do one last check on the variables to make sure they are appropriate for t-test analysis. Visually they appear to be nearly normally distributed but a quick check on the skewness and kurtosis will let us know for sure. Ideally we want to see skewness values between -1 and 1 and kurtosis values between -2 and 2 before proceeding.\n",
        "\n"
      ]
    },
    {
      "cell_type": "code",
      "metadata": {
        "colab": {
          "base_uri": "https://localhost:8080/"
        },
        "id": "HtCYinuhxTby",
        "outputId": "68ecbe55-2e37-44a0-9076-19cd0b147ace"
      },
      "source": [
        "# Calculate skewness and kurtosis for Avg_AnROR\n",
        "print('The skewness of Avg_AnROR for institution 1 is {}.'.format(stats.skew(results_institution_1['Avg_AnROR'], bias=False)))\n",
        "print('The skewness of Avg_AnROR for institution 2 is {}.'.format(stats.skew(results_institution_2['Avg_AnROR'], bias=False)))\n",
        "print('The kurtosis of Avg_AnROR for institution 1 is {}.'.format(stats.kurtosis(results_institution_1['Avg_AnROR'], bias=False)))\n",
        "print('The kurtosis of Avg_AnROR for institution 2 is {}.'.format(stats.kurtosis(results_institution_2['Avg_AnROR'], bias=False)))"
      ],
      "execution_count": null,
      "outputs": [
        {
          "name": "stdout",
          "output_type": "stream",
          "text": [
            "The skewness of Avg_AnROR for institution 1 is 0.4698588211838533.\n",
            "The skewness of Avg_AnROR for institution 2 is 0.619123393639602.\n",
            "The kurtosis of Avg_AnROR for institution 1 is -0.04270862486544358.\n",
            "The kurtosis of Avg_AnROR for institution 2 is 0.0539759256108483.\n"
          ]
        }
      ]
    },
    {
      "cell_type": "code",
      "metadata": {
        "colab": {
          "base_uri": "https://localhost:8080/"
        },
        "id": "4Wu6-NS61Ypc",
        "outputId": "e9b8a093-cf53-48f5-e79b-5598c4e62c1c"
      },
      "source": [
        "# Calculate skewness and kurtosis for Max_Loss\n",
        "print('The skewness of Max_Loss for institution 1 is {}.'.format(stats.skew(results_institution_1['Max_Loss'], bias=False)))\n",
        "print('The skewness of Max_Loss for institution 2 is {}.'.format(stats.skew(results_institution_2['Max_Loss'], bias=False)))\n",
        "print('The kurtosis of Max_Loss for institution 1 is {}.'.format(stats.kurtosis(results_institution_1['Max_Loss'], bias=False)))\n",
        "print('The kurtosis of Max_Loss for institution 2 is {}.'.format(stats.kurtosis(results_institution_2['Max_Loss'], bias=False)))"
      ],
      "execution_count": null,
      "outputs": [
        {
          "name": "stdout",
          "output_type": "stream",
          "text": [
            "The skewness of Max_Loss for institution 1 is 0.42143617725379007.\n",
            "The skewness of Max_Loss for institution 2 is 0.22497396492064478.\n",
            "The kurtosis of Max_Loss for institution 1 is -0.4019936245991471.\n",
            "The kurtosis of Max_Loss for institution 2 is -0.31714952631709714.\n"
          ]
        }
      ]
    },
    {
      "cell_type": "markdown",
      "metadata": {
        "id": "rXOcWY-OvLpY"
      },
      "source": [
        "All variables check out, so it is now time to perform the independent samples t-tests for both variables."
      ]
    },
    {
      "cell_type": "code",
      "metadata": {
        "colab": {
          "base_uri": "https://localhost:8080/"
        },
        "id": "oMRGNCPNZuvH",
        "outputId": "f27d1451-217a-4a4a-f27c-77085fb0feeb"
      },
      "source": [
        "# Perform independent-samples t-test on Avg_AnROR between the two institutions.\n",
        "stats.ttest_ind(results_institution_1['Avg_AnROR'], results_institution_2['Avg_AnROR'])"
      ],
      "execution_count": null,
      "outputs": [
        {
          "data": {
            "text/plain": [
              "Ttest_indResult(statistic=21.157218558392874, pvalue=3.796905266326624e-99)"
            ]
          },
          "execution_count": 10,
          "metadata": {},
          "output_type": "execute_result"
        }
      ]
    },
    {
      "cell_type": "code",
      "metadata": {
        "colab": {
          "base_uri": "https://localhost:8080/",
          "height": 35
        },
        "id": "tgxVCJUOU-82",
        "outputId": "74ed40fe-6ddd-49d9-e164-6ea9447673d7"
      },
      "source": [
        "# Create a function to calculate the 95% confidence interval between the means of two variables.\n",
        "def get_95_ci(array_1, array_2):\n",
        "    sample_1_n = array_1.shape[0]\n",
        "    sample_2_n = array_2.shape[0]\n",
        "    sample_1_mean = array_1.mean()\n",
        "    sample_2_mean = array_2.mean()\n",
        "    sample_1_var = array_1.var()\n",
        "    sample_2_var = array_2.var()\n",
        "    mean_difference = sample_2_mean - sample_1_mean\n",
        "    std_err_difference = math.sqrt((sample_1_var/sample_1_n)+(sample_2_var/sample_2_n))\n",
        "    margin_of_error = 1.96 * std_err_difference\n",
        "    ci_lower = mean_difference - margin_of_error\n",
        "    ci_upper = mean_difference + margin_of_error\n",
        "    return(\"The difference in means at the 95% confidence interval (two-tail) is between \"+str(ci_lower)+\" and \"+str(ci_upper)+\".\")\n",
        "\n",
        "# Find the 95% confidence interval for average annualized rate of return.\n",
        "get_95_ci(results_institution_1['Avg_AnROR'], results_institution_2['Avg_AnROR'])"
      ],
      "execution_count": null,
      "outputs": [
        {
          "data": {
            "application/vnd.google.colaboratory.intrinsic+json": {
              "type": "string"
            },
            "text/plain": [
              "'The difference in means at the 95% confidence interval (two-tail) is between 0.22745196470119255 and 0.27389680247373205.'"
            ]
          },
          "execution_count": 25,
          "metadata": {},
          "output_type": "execute_result"
        }
      ]
    },
    {
      "cell_type": "markdown",
      "metadata": {
        "id": "67mPdopNvZBw"
      },
      "source": [
        "Based on the results of the t test on Avg_AnROR we reject the null hypothesis that there is no significant difference in the average annualized returns between financial institutions 1 and 2. The results are significant with a p value much less than .05. With 95% confidence the difference in the means is between 0.23% and 0.27%.\n",
        "\n",
        "Institution 1 does indeed have statistically higher historic returns over the given investment period that Institution 2 does."
      ]
    },
    {
      "cell_type": "code",
      "metadata": {
        "colab": {
          "base_uri": "https://localhost:8080/"
        },
        "id": "DzlSc6wIZu9a",
        "outputId": "b738cd88-5b20-462e-e988-6c6162ab89e5"
      },
      "source": [
        "# Perform independent-samples t-test on Max_Loss between the two institutions.\n",
        "stats.ttest_ind(results_institution_1['Max_Loss'], results_institution_2['Max_Loss'])"
      ],
      "execution_count": null,
      "outputs": [
        {
          "data": {
            "text/plain": [
              "Ttest_indResult(statistic=22.31972284740483, pvalue=4.2652378951621344e-110)"
            ]
          },
          "execution_count": 14,
          "metadata": {},
          "output_type": "execute_result"
        }
      ]
    },
    {
      "cell_type": "code",
      "metadata": {
        "colab": {
          "base_uri": "https://localhost:8080/",
          "height": 35
        },
        "id": "U4XvBQ_9WS-T",
        "outputId": "367794f8-e310-4b2b-aab5-72775c2578d6"
      },
      "source": [
        "# Find the 95% confidence interval for the maximum annual loss.\n",
        "get_95_ci(results_institution_2['Max_Loss'], results_institution_1['Max_Loss'])"
      ],
      "execution_count": null,
      "outputs": [
        {
          "data": {
            "application/vnd.google.colaboratory.intrinsic+json": {
              "type": "string"
            },
            "text/plain": [
              "'The difference in means at the 95% confidence interval (two-tail) is between 0.7124652991833527 and 0.8496412319664985.'"
            ]
          },
          "execution_count": 34,
          "metadata": {},
          "output_type": "execute_result"
        }
      ]
    },
    {
      "cell_type": "markdown",
      "metadata": {
        "id": "yxy2Jn4nwcsB"
      },
      "source": [
        "Based on the results of the t test on Max_Loss we reject the null hypothesis that there is no significant difference in the maximum annual losses between financial institutions 1 and 2. The results are significant with a p value much less than .05. With 95% confidence the difference in the means is between 0.71% and 0.85%.\n",
        "\n",
        "Institution 1 does indeed have statistically lower maximum losses over the given investment period that Institution 2 does."
      ]
    },
    {
      "cell_type": "markdown",
      "metadata": {
        "id": "aX6dW8S-8BTE"
      },
      "source": [
        "#6 Takeaways and Conclusion\n",
        "\n",
        "The statistical analysis in the previous section has shown that for the given investing period Institution 1 has a fund lineup that performs statistically better than institution 2 in terms of both average annualized returns and maximum annual losses. This could be valuable information to know for both the individual investor who is deciding which institution to choose for their personal investing needs as well as for either of the institutions in question. For the better performing institution this is great to know for advertising purposes. Never hurts to have data to back up that you are performing better than the competition. On the other hand, for the poorer performing institution this could serve as a call to action to improve their index fund methodology. \n",
        "\n",
        "Before getting too carried away though, as with any statistical analysis, it is always a good idea to get an idea of the magnitude of effects. Just because something is statistically significant does not mean that it is practically significant. As an example lets consider two individuals that begin investing in Roth IRA's when they are 25. Both contribute $6000 annually and allow their investments to grow for 40 years until retirement at 65. The first individual invests in an average portfolio of Institution 1 funds that yields an average annualized rate of return of 7.04%. The first individual invests in an average portfolio of Institution 2 funds that yields an average annualized rate of return of 6.79%. Lets have a look at the value of their respective portfolios at retirement."
      ]
    },
    {
      "cell_type": "code",
      "metadata": {
        "colab": {
          "base_uri": "https://localhost:8080/"
        },
        "id": "XJU99rAD8l4b",
        "outputId": "8d601f3f-aae3-44d5-b0aa-21051684dc4b"
      },
      "source": [
        "# Calculate the impact of an average Institution 1 and 2 portfolio assuming 40 years of growth and annual contributions of $6000.\n",
        "start_year = 25\n",
        "end_year = 65\n",
        "current_year = start_year - 1\n",
        "years = []\n",
        "while current_year < end_year:\n",
        "  year = current_year + 1\n",
        "  current_year = current_year + 1\n",
        "  years.append(year)\n",
        "\n",
        "ROI_df = pd.DataFrame(years, columns=['Year'])\n",
        "ROI_df['Investment_Amount'] = 6000\n",
        "\n",
        "ROI_df.loc[ROI_df.index[0], 'Institution_1_Value'] = ROI_df.loc[ROI_df.index[0], 'Investment_Amount'] + ROI_df.loc[ROI_df.index[0], 'Investment_Amount'] * .0704 \n",
        "ROI_df.loc[ROI_df.index[0], 'Institution_2_Value'] = ROI_df.loc[ROI_df.index[0], 'Investment_Amount'] + ROI_df.loc[ROI_df.index[0], 'Investment_Amount'] * .0679\n",
        "\n",
        "for i in range(1, len(ROI_df)):\n",
        "  ROI_df.loc[i, 'Institution_1_Value'] = (ROI_df.loc[i-1, 'Institution_1_Value'] + ROI_df.loc[i, 'Investment_Amount']) * 1.0704\n",
        "\n",
        "for i in range(1, len(ROI_df)):\n",
        "  ROI_df.loc[i, 'Institution_2_Value'] = (ROI_df.loc[i-1, 'Institution_2_Value'] + ROI_df.loc[i, 'Investment_Amount']) * 1.0679\n",
        "\n",
        "print('The average value of an Institution 1 portfolio going into retirement is approximately ${}'.format(round(ROI_df.loc[ROI_df.index[40], 'Institution_1_Value']), 2))\n",
        "print('The average value of an Institution 2 portfolio going into retirement is approximately ${}'.format(round(ROI_df.loc[ROI_df.index[40], 'Institution_2_Value']), 2))\n"
      ],
      "execution_count": null,
      "outputs": [
        {
          "name": "stdout",
          "output_type": "stream",
          "text": [
            "The average value of an Institution 1 portfolio going into retirement is approximately $1393049\n",
            "The average value of an Institution 2 portfolio going into retirement is approximately $1300609\n"
          ]
        }
      ]
    },
    {
      "cell_type": "markdown",
      "metadata": {
        "id": "nt2cNr17KX-I"
      },
      "source": [
        "The first individual is going into retirement with a portfolio value of approximately 1.39 million while the second individual is going into retirement with a portfolio value of approximately 1.3 million. The $90000 difference could support an additional year or two of expenses depending on the retired individuals lifestyle. I would say that is a significant practical effect. \n",
        "\n",
        "In closing I would like to briefly highlight one more thing that this analysis provides. Once an individual has decided which financial institution they prefer they can use these outputs to also determine their ideal asset allocation combination. The following figure is a scatterplot of the maximum loss vs average annualized return for each asset allocation combination for institution 1. Individuals can specify their desired minimum annual rate of return and then identify the combination that historically has had the lowest annual losses. Take for example someone that would like at least an average annualized rate of return of 8%. Many portfolios have earned 8% but the range of losses goes all the way from about -7.5% to -30%! I personally am going with the portfolio that historically has done a better job weathering the financial storms. "
      ]
    },
    {
      "cell_type": "code",
      "metadata": {
        "colab": {
          "base_uri": "https://localhost:8080/",
          "height": 302
        },
        "id": "Oq85l3NH8L3o",
        "outputId": "05ab28f6-c3eb-4144-a6c3-9be141fa2987"
      },
      "source": [
        "# Generate a scatterplot of Max_Loss vs Avg_AnROR for institution 1.\n",
        "sns.scatterplot(x='Avg_AnROR', y='Max_Loss', data=results_institution_1)"
      ],
      "execution_count": null,
      "outputs": [
        {
          "data": {
            "text/plain": [
              "<matplotlib.axes._subplots.AxesSubplot at 0x7fa5f9d5cf90>"
            ]
          },
          "execution_count": 15,
          "metadata": {},
          "output_type": "execute_result"
        },
        {
          "data": {
            "image/png": "[encoded data removed]",
            "text/plain": [
              "<Figure size 432x288 with 1 Axes>"
            ]
          },
          "metadata": {},
          "output_type": "display_data"
        }
      ]
    },
    {
      "cell_type": "markdown",
      "metadata": {
        "id": "LHUtG5CZNtHi"
      },
      "source": [
        "#AND LASTLY\n",
        "\n",
        "\n",
        "1.   I am not a financial advisor and as such the results of this analysis should not be considered investment advice.\n",
        "2.   Historic performance may not be indicative of future results.\n",
        "\n"
      ]
    }
  ]
}